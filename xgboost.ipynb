{
 "cells": [
  {
   "cell_type": "markdown",
   "metadata": {},
   "source": [
    "## XGBoost\n",
    "This notebook fits an XGBoost model to the Scania Trucks Air Pressure System (APS) predictive maintenance dataset, obtained from [UCI's data repository](https://archive.ics.uci.edu/ml/datasets/APS+Failure+at+Scania+Trucks). \n",
    "\n",
    "In the Logistic Regression & Naive Bayes notebooks, grid searches were used for hyperparameter tuning. However, significantly more computational resources are required to fit an XGBoost model. Thus, this notebook will use a Genetic Algorithm in lieu of grid search or Bayesian Optimization."
   ]
  },
  {
   "cell_type": "code",
   "execution_count": 85,
   "metadata": {},
   "outputs": [],
   "source": [
    "import pandas as pd\n",
    "import numpy as np\n",
    "import matplotlib.pyplot as plt\n",
    "import csv\n",
    "import seaborn as sns\n",
    "from xgboost import XGBClassifier\n",
    "\n",
    "from sklearn.metrics import auc, roc_curve, precision_recall_curve, make_scorer, confusion_matrix\n",
    "from sklearn.model_selection import train_test_split, cross_val_score\n",
    "\n",
    "from pymoo.core.problem import ElementwiseProblem\n",
    "from pymoo.optimize import minimize\n",
    "from pymoo.core.mixed import MixedVariableGA\n",
    "from pymoo.core.variable import Real, Integer, Choice, Binary\n",
    "\n",
    "sns.set()"
   ]
  },
  {
   "cell_type": "markdown",
   "metadata": {},
   "source": [
    "### Load Data"
   ]
  },
  {
   "cell_type": "code",
   "execution_count": 43,
   "metadata": {},
   "outputs": [],
   "source": [
    "df_train = pd.read_csv(r'./data/aps_failure_training_set_data_only.csv')"
   ]
  },
  {
   "cell_type": "code",
   "execution_count": 44,
   "metadata": {},
   "outputs": [],
   "source": [
    "# df --> X_train & y_train\n",
    "X_train = df_train.drop('class', axis=1)\n",
    "y_train = df_train['class'].replace({'pos': 1.0, 'neg': 0.0})"
   ]
  },
  {
   "cell_type": "code",
   "execution_count": 45,
   "metadata": {},
   "outputs": [
    {
     "data": {
      "text/plain": [
       "0.0    59000\n",
       "1.0     1000\n",
       "Name: class, dtype: int64"
      ]
     },
     "execution_count": 45,
     "metadata": {},
     "output_type": "execute_result"
    }
   ],
   "source": [
    "y_train.value_counts()"
   ]
  },
  {
   "cell_type": "markdown",
   "metadata": {},
   "source": [
    "### XGBoost & pymoo"
   ]
  },
  {
   "cell_type": "code",
   "execution_count": 11,
   "metadata": {},
   "outputs": [],
   "source": [
    "def calc_misclassification_cost(y, y_pred):\n",
    "    tn, fp, fn, tp = confusion_matrix(y, y_pred).ravel()\n",
    "    return 10*fp + 500*fn\n",
    "\n",
    "\n",
    "misclassification_cost = make_scorer(\n",
    "    calc_misclassification_cost,\n",
    "    greater_is_better=False,\n",
    "    needs_proba=False,\n",
    "    needs_threshold=False\n",
    ")"
   ]
  },
  {
   "cell_type": "code",
   "execution_count": 64,
   "metadata": {},
   "outputs": [],
   "source": [
    "class HyperparameterTuningXGB(ElementwiseProblem):\n",
    "\n",
    "    def __init__(self, vars, X_train, y_train, file_path):       \n",
    "        super().__init__(vars=vars, n_obj=1)\n",
    "\n",
    "        self.X_train = X_train\n",
    "        self.y_train = y_train\n",
    "        self.file_path = file_path\n",
    "        self.i = 1\n",
    "\n",
    "\n",
    "    def _evaluate(self, x, out, *args, **kwargs):\n",
    "\n",
    "        xgb = XGBClassifier(\n",
    "            n_estimators=100,\n",
    "            objective='binary:logistic',\n",
    "            booster='gbtree',\n",
    "            verbosity=0,\n",
    "            random_state=1,\n",
    "            max_depth=x['max_depth'], \n",
    "            gamma=x['gamma'], \n",
    "            min_child_weight=x['min_child_weight'], \n",
    "            grow_policy=x['grow_policy'], \n",
    "            learning_rate=x['learning_rate'], \n",
    "            subsample=x['subsample'], \n",
    "            colsample_bytree=x['colsample_bytree'], \n",
    "            reg_alpha=x['reg_alpha'], \n",
    "            scale_pos_weight=x['scale_pos_weight'], \n",
    "        )\n",
    "\n",
    "        scores = cross_val_score(xgb, cv=5, X=self.X_train, y=self.y_train, scoring=misclassification_cost, n_jobs=-1)\n",
    "        cv_mean_cost = scores.mean()\n",
    "        \n",
    "        self.write_log_file(-cv_mean_cost, x)\n",
    "\n",
    "        out[\"F\"] = -cv_mean_cost\n",
    "\n",
    "\n",
    "    def write_log_file(self, cv_mean_cost, params):\n",
    "        # CSV columns\n",
    "        cols = ['run_id', 'cv_mean_cost', *sorted(params.keys())]\n",
    "\n",
    "        # Add misclassification cost to params dict\n",
    "        params['run_id'] = self.i\n",
    "        params['cv_mean_cost'] = cv_mean_cost\n",
    "\n",
    "        # Write to CSV\n",
    "        if self.i == 1:\n",
    "            with open(self.file_path, 'w') as f:\n",
    "                w = csv.DictWriter(f, cols)\n",
    "                w.writeheader()\n",
    "                w.writerow(params)\n",
    "\n",
    "        else:\n",
    "            with open(self.file_path, 'a') as f:\n",
    "                w = csv.DictWriter(f, cols)\n",
    "                w.writerow(params)\n",
    "\n",
    "        # Increment\n",
    "        self.i += 1\n",
    "\n",
    "        # No return value\n",
    "        pass"
   ]
  },
  {
   "cell_type": "code",
   "execution_count": 65,
   "metadata": {},
   "outputs": [],
   "source": [
    "vars = {\n",
    "    \"max_depth\": Integer(bounds=(2, 100)),\n",
    "    \"gamma\": Real(bounds=(0.1, 0.75)),\n",
    "    \"min_child_weight\": Integer(bounds=(1, 10)),\n",
    "    \"grow_policy\": Choice(options=['depthwise', 'lossguide']),\n",
    "    \"learning_rate\": Real(bounds=(0.01, 0.75)),\n",
    "    \"subsample\": Real(bounds=(0.5, 1.0)),\n",
    "    \"colsample_bytree\": Real(bounds=(0.5, 1.0)),\n",
    "    \"reg_alpha\": Real(bounds=(0.0, 0.05)), \n",
    "    \"scale_pos_weight\": Choice(options=[1, 59]),\n",
    "}"
   ]
  },
  {
   "cell_type": "code",
   "execution_count": 66,
   "metadata": {},
   "outputs": [
    {
     "name": "stdout",
     "output_type": "stream",
     "text": [
      "=================================================\n",
      "n_gen  |  n_eval  |     f_avg     |     f_min    \n",
      "=================================================\n",
      "     1 |       50 |  2.166452E+04 |  8.852000E+03\n",
      "     2 |      100 |  1.723368E+04 |  8.852000E+03\n",
      "     3 |      150 |  1.572004E+04 |  8.620000E+03\n",
      "     4 |      200 |  1.460456E+04 |  8.328000E+03\n",
      "     5 |      250 |  1.287324E+04 |  8.218000E+03\n",
      "     6 |      300 |  1.118212E+04 |  7.944000E+03\n",
      "     7 |      350 |  9.840320E+03 |  7.944000E+03\n",
      "     8 |      400 |  8.902720E+03 |  7.624000E+03\n",
      "     9 |      450 |  8.599840E+03 |  7.624000E+03\n",
      "    10 |      500 |  8.380400E+03 |  7.624000E+03\n",
      "Best solution found: \n",
      "X = {'max_depth': 2, 'min_child_weight': 2, 'gamma': 0.14672250058344571, 'learning_rate': 0.24814962445178415, 'subsample': 0.6911207278390701, 'colsample_bytree': 0.8385764077975448, 'reg_alpha': 0.031090311587020775, 'grow_policy': 'lossguide', 'scale_pos_weight': 59, 'run_id': 358, 'cv_mean_cost': 7624.0}\n",
      "F = [7624.]\n"
     ]
    }
   ],
   "source": [
    "problem = HyperparameterTuningXGB(vars, X_train, y_train, r'./logs/log_xgb_ga.csv')\n",
    "\n",
    "algorithm = MixedVariableGA(pop=50)\n",
    "\n",
    "res = minimize(problem,\n",
    "               algorithm,\n",
    "               termination=('n_eval', 500),\n",
    "               seed=1,\n",
    "               save_history=True,\n",
    "               verbose=True)\n",
    "\n",
    "print(\"Best solution found: \\nX = %s\\nF = %s\" % (res.X, res.F))"
   ]
  },
  {
   "cell_type": "code",
   "execution_count": 67,
   "metadata": {},
   "outputs": [],
   "source": [
    "def xgb_evaluate(params, X, y):\n",
    "\n",
    "    xgb = XGBClassifier(\n",
    "        n_estimators=100,\n",
    "        objective='binary:logistic',\n",
    "        booster='gbtree',\n",
    "        verbosity=0,\n",
    "        random_state=1,\n",
    "        max_depth=params['max_depth'], \n",
    "        gamma=params['gamma'], \n",
    "        min_child_weight=params['min_child_weight'], \n",
    "        grow_policy=params['grow_policy'], \n",
    "        learning_rate=params['learning_rate'], \n",
    "        subsample=params['subsample'], \n",
    "        colsample_bytree=params['colsample_bytree'], \n",
    "        reg_alpha=params['reg_alpha'], \n",
    "        scale_pos_weight=params['scale_pos_weight'], \n",
    "    )\n",
    "\n",
    "    scores = cross_val_score(xgb, cv=5, X=X, y=y, scoring=misclassification_cost, n_jobs=-1)\n",
    "    cv_mean_cost = scores.mean()\n",
    "    \n",
    "    return xgb, cv_mean_cost"
   ]
  },
  {
   "cell_type": "code",
   "execution_count": 69,
   "metadata": {},
   "outputs": [
    {
     "name": "stdout",
     "output_type": "stream",
     "text": [
      "-7624.0\n"
     ]
    }
   ],
   "source": [
    "clf, score = xgb_evaluate(res.X, X_train, y_train)\n",
    "\n",
    "print(score)"
   ]
  },
  {
   "cell_type": "code",
   "execution_count": 71,
   "metadata": {},
   "outputs": [
    {
     "data": {
      "text/html": [
       "<style>#sk-container-id-1 {color: black;background-color: white;}#sk-container-id-1 pre{padding: 0;}#sk-container-id-1 div.sk-toggleable {background-color: white;}#sk-container-id-1 label.sk-toggleable__label {cursor: pointer;display: block;width: 100%;margin-bottom: 0;padding: 0.3em;box-sizing: border-box;text-align: center;}#sk-container-id-1 label.sk-toggleable__label-arrow:before {content: \"▸\";float: left;margin-right: 0.25em;color: #696969;}#sk-container-id-1 label.sk-toggleable__label-arrow:hover:before {color: black;}#sk-container-id-1 div.sk-estimator:hover label.sk-toggleable__label-arrow:before {color: black;}#sk-container-id-1 div.sk-toggleable__content {max-height: 0;max-width: 0;overflow: hidden;text-align: left;background-color: #f0f8ff;}#sk-container-id-1 div.sk-toggleable__content pre {margin: 0.2em;color: black;border-radius: 0.25em;background-color: #f0f8ff;}#sk-container-id-1 input.sk-toggleable__control:checked~div.sk-toggleable__content {max-height: 200px;max-width: 100%;overflow: auto;}#sk-container-id-1 input.sk-toggleable__control:checked~label.sk-toggleable__label-arrow:before {content: \"▾\";}#sk-container-id-1 div.sk-estimator input.sk-toggleable__control:checked~label.sk-toggleable__label {background-color: #d4ebff;}#sk-container-id-1 div.sk-label input.sk-toggleable__control:checked~label.sk-toggleable__label {background-color: #d4ebff;}#sk-container-id-1 input.sk-hidden--visually {border: 0;clip: rect(1px 1px 1px 1px);clip: rect(1px, 1px, 1px, 1px);height: 1px;margin: -1px;overflow: hidden;padding: 0;position: absolute;width: 1px;}#sk-container-id-1 div.sk-estimator {font-family: monospace;background-color: #f0f8ff;border: 1px dotted black;border-radius: 0.25em;box-sizing: border-box;margin-bottom: 0.5em;}#sk-container-id-1 div.sk-estimator:hover {background-color: #d4ebff;}#sk-container-id-1 div.sk-parallel-item::after {content: \"\";width: 100%;border-bottom: 1px solid gray;flex-grow: 1;}#sk-container-id-1 div.sk-label:hover label.sk-toggleable__label {background-color: #d4ebff;}#sk-container-id-1 div.sk-serial::before {content: \"\";position: absolute;border-left: 1px solid gray;box-sizing: border-box;top: 0;bottom: 0;left: 50%;z-index: 0;}#sk-container-id-1 div.sk-serial {display: flex;flex-direction: column;align-items: center;background-color: white;padding-right: 0.2em;padding-left: 0.2em;position: relative;}#sk-container-id-1 div.sk-item {position: relative;z-index: 1;}#sk-container-id-1 div.sk-parallel {display: flex;align-items: stretch;justify-content: center;background-color: white;position: relative;}#sk-container-id-1 div.sk-item::before, #sk-container-id-1 div.sk-parallel-item::before {content: \"\";position: absolute;border-left: 1px solid gray;box-sizing: border-box;top: 0;bottom: 0;left: 50%;z-index: -1;}#sk-container-id-1 div.sk-parallel-item {display: flex;flex-direction: column;z-index: 1;position: relative;background-color: white;}#sk-container-id-1 div.sk-parallel-item:first-child::after {align-self: flex-end;width: 50%;}#sk-container-id-1 div.sk-parallel-item:last-child::after {align-self: flex-start;width: 50%;}#sk-container-id-1 div.sk-parallel-item:only-child::after {width: 0;}#sk-container-id-1 div.sk-dashed-wrapped {border: 1px dashed gray;margin: 0 0.4em 0.5em 0.4em;box-sizing: border-box;padding-bottom: 0.4em;background-color: white;}#sk-container-id-1 div.sk-label label {font-family: monospace;font-weight: bold;display: inline-block;line-height: 1.2em;}#sk-container-id-1 div.sk-label-container {text-align: center;}#sk-container-id-1 div.sk-container {/* jupyter's `normalize.less` sets `[hidden] { display: none; }` but bootstrap.min.css set `[hidden] { display: none !important; }` so we also need the `!important` here to be able to override the default hidden behavior on the sphinx rendered scikit-learn.org. See: https://github.com/scikit-learn/scikit-learn/issues/21755 */display: inline-block !important;position: relative;}#sk-container-id-1 div.sk-text-repr-fallback {display: none;}</style><div id=\"sk-container-id-1\" class=\"sk-top-container\"><div class=\"sk-text-repr-fallback\"><pre>XGBClassifier(base_score=0.5, booster=&#x27;gbtree&#x27;, callbacks=None,\n",
       "              colsample_bylevel=1, colsample_bynode=1,\n",
       "              colsample_bytree=0.8385764077975448, early_stopping_rounds=None,\n",
       "              enable_categorical=False, eval_metric=None,\n",
       "              gamma=0.14672250058344571, gpu_id=-1, grow_policy=&#x27;lossguide&#x27;,\n",
       "              importance_type=None, interaction_constraints=&#x27;&#x27;,\n",
       "              learning_rate=0.24814962445178415, max_bin=256,\n",
       "              max_cat_to_onehot=4, max_delta_step=0, max_depth=2, max_leaves=0,\n",
       "              min_child_weight=2, missing=nan, monotone_constraints=&#x27;()&#x27;,\n",
       "              n_estimators=100, n_jobs=0, num_parallel_tree=1, predictor=&#x27;auto&#x27;,\n",
       "              random_state=1, reg_alpha=0.031090311587020775, reg_lambda=1, ...)</pre><b>In a Jupyter environment, please rerun this cell to show the HTML representation or trust the notebook. <br />On GitHub, the HTML representation is unable to render, please try loading this page with nbviewer.org.</b></div><div class=\"sk-container\" hidden><div class=\"sk-item\"><div class=\"sk-estimator sk-toggleable\"><input class=\"sk-toggleable__control sk-hidden--visually\" id=\"sk-estimator-id-1\" type=\"checkbox\" checked><label for=\"sk-estimator-id-1\" class=\"sk-toggleable__label sk-toggleable__label-arrow\">XGBClassifier</label><div class=\"sk-toggleable__content\"><pre>XGBClassifier(base_score=0.5, booster=&#x27;gbtree&#x27;, callbacks=None,\n",
       "              colsample_bylevel=1, colsample_bynode=1,\n",
       "              colsample_bytree=0.8385764077975448, early_stopping_rounds=None,\n",
       "              enable_categorical=False, eval_metric=None,\n",
       "              gamma=0.14672250058344571, gpu_id=-1, grow_policy=&#x27;lossguide&#x27;,\n",
       "              importance_type=None, interaction_constraints=&#x27;&#x27;,\n",
       "              learning_rate=0.24814962445178415, max_bin=256,\n",
       "              max_cat_to_onehot=4, max_delta_step=0, max_depth=2, max_leaves=0,\n",
       "              min_child_weight=2, missing=nan, monotone_constraints=&#x27;()&#x27;,\n",
       "              n_estimators=100, n_jobs=0, num_parallel_tree=1, predictor=&#x27;auto&#x27;,\n",
       "              random_state=1, reg_alpha=0.031090311587020775, reg_lambda=1, ...)</pre></div></div></div></div></div>"
      ],
      "text/plain": [
       "XGBClassifier(base_score=0.5, booster='gbtree', callbacks=None,\n",
       "              colsample_bylevel=1, colsample_bynode=1,\n",
       "              colsample_bytree=0.8385764077975448, early_stopping_rounds=None,\n",
       "              enable_categorical=False, eval_metric=None,\n",
       "              gamma=0.14672250058344571, gpu_id=-1, grow_policy='lossguide',\n",
       "              importance_type=None, interaction_constraints='',\n",
       "              learning_rate=0.24814962445178415, max_bin=256,\n",
       "              max_cat_to_onehot=4, max_delta_step=0, max_depth=2, max_leaves=0,\n",
       "              min_child_weight=2, missing=nan, monotone_constraints='()',\n",
       "              n_estimators=100, n_jobs=0, num_parallel_tree=1, predictor='auto',\n",
       "              random_state=1, reg_alpha=0.031090311587020775, reg_lambda=1, ...)"
      ]
     },
     "execution_count": 71,
     "metadata": {},
     "output_type": "execute_result"
    }
   ],
   "source": [
    "clf.fit(X_train, y_train)"
   ]
  },
  {
   "cell_type": "markdown",
   "metadata": {},
   "source": [
    "### Best Estimator - Plots & Post-Processing"
   ]
  },
  {
   "cell_type": "code",
   "execution_count": 86,
   "metadata": {},
   "outputs": [],
   "source": [
    "def plot_roc_auc(y_true, y_pred, model_name, file_path, figsize=(10, 8)):\n",
    "    # Create figure\n",
    "    fig = plt.figure(figsize=figsize)\n",
    "\n",
    "    # Calculate ROC Curve & AUC\n",
    "    fpr, tpr, thresholds = roc_curve(y_true, y_pred)\n",
    "    area = auc(fpr, tpr)\n",
    "    plt.title('ROC Curve | %s | AUC = %0.5f' % (model_name, area))\n",
    "    plt.xlabel('False Positive Rate (FPR)')\n",
    "    plt.ylabel('True Positive Rate (TPR)')\n",
    "\n",
    "    # Save & close plot\n",
    "    plt.plot(fpr, tpr)\n",
    "    fig.savefig(file_path)\n",
    "    plt.close(fig)\n",
    "\n",
    "    return area\n",
    "\n",
    "\n",
    "def plot_precision_recall_auc(y_true, y_pred, model_name, file_path, figsize=(10, 8)):\n",
    "    # Create figure\n",
    "    fig = plt.figure(figsize=figsize)\n",
    "\n",
    "    # Calculate ROC Curve & AUC\n",
    "    pr, rc, thresholds = precision_recall_curve(y_true, y_pred)\n",
    "    area = auc(rc, pr)\n",
    "    plt.title('Precision-Recall Curve | %s | AUC = %0.5f' % (model_name, area))\n",
    "    plt.xlabel('Recall')\n",
    "    plt.ylabel('Precision')\n",
    "\n",
    "    # Save & close plot\n",
    "    plt.plot(rc, pr)\n",
    "    fig.savefig(file_path)\n",
    "    plt.close(fig)\n",
    "\n",
    "    return area\n",
    "\n",
    "probs = clf.predict_proba(X_train)\n",
    "\n",
    "plot_roc_auc(y_train, probs[:, 1], 'XGBoost', r'./results/xgb_roc.jpg');\n",
    "plot_precision_recall_auc(y_train, probs[:, 1], 'XGBoost', r'./results/xgb_pr.jpg');"
   ]
  },
  {
   "cell_type": "markdown",
   "metadata": {},
   "source": [
    "![image](./results/xgb_roc.jpg)\n",
    "![image](./results/xgb_pr.jpg)"
   ]
  },
  {
   "cell_type": "markdown",
   "metadata": {},
   "source": [
    "### Misclassification Cost on Test Data"
   ]
  },
  {
   "cell_type": "code",
   "execution_count": 73,
   "metadata": {},
   "outputs": [
    {
     "name": "stdout",
     "output_type": "stream",
     "text": [
      "Misclassification Cost on Test Data: 13250\n"
     ]
    }
   ],
   "source": [
    "df_test = pd.read_csv(r'./data/aps_failure_test_set_data_only.csv')\n",
    "\n",
    "X_test = df_test.drop('class', axis=1)\n",
    "y_test = df_test['class'].replace({'pos': 1.0, 'neg': 0.0})\n",
    "y_pred = clf.predict(X_test)\n",
    "\n",
    "print('Misclassification Cost on Test Data: %i' % calc_misclassification_cost(y_test, y_pred))"
   ]
  },
  {
   "cell_type": "code",
   "execution_count": 74,
   "metadata": {},
   "outputs": [
    {
     "name": "stdout",
     "output_type": "stream",
     "text": [
      "Number of Type 1 Faults: 375\n",
      "Number of Type 2 Faults: 19\n"
     ]
    }
   ],
   "source": [
    "tn, fp, fn, tp = confusion_matrix(y_test, y_pred).ravel()\n",
    "print('Number of Type 1 Faults: %i' % fp)\n",
    "print('Number of Type 2 Faults: %i' % fn)"
   ]
  },
  {
   "cell_type": "markdown",
   "metadata": {},
   "source": [
    "* The XGBoost model performed better than the Random Forest model with regards to the average Cross Validation score, but performed slightly worse on the Test Dataset.\n",
    "\n",
    "* This is a sign that the model is overfitting to the training data.\n",
    "\n",
    "* Most importantly, the XGBoost performed worse than the Random Forest with respects to Type 2 Faults (19 - XGBoost vs. 22 - Random Forest). It had less Type 1 Faults but the additional Type 2 Faults caused its overall Misclassification Cost to be higher.\n",
    "\n",
    "* To improve upon this, a secondary hyperparameter search could be done to aid with generalization; e.g. search over a wider range of regularization parameters (alpha, lambda) to aid with overfitting. As shown in the plot below, only alpha was tuned and over a range of 0.0 to 0.05"
   ]
  },
  {
   "cell_type": "code",
   "execution_count": 87,
   "metadata": {},
   "outputs": [
    {
     "data": {
      "image/png": "[encoded data removed]",
      "text/plain": [
       "<Figure size 640x480 with 1 Axes>"
      ]
     },
     "metadata": {},
     "output_type": "display_data"
    }
   ],
   "source": [
    "df = pd.read_csv(r'./logs/log_xgb_ga.csv')\n",
    "df['reg_alpha'].plot(kind='box', title=r'Search Space: Regularization $\\alpha$', ylabel=r'$\\alpha$');"
   ]
  }
 ],
 "metadata": {
  "kernelspec": {
   "display_name": "Python 3.10.6 ('xgb')",
   "language": "python",
   "name": "python3"
  },
  "language_info": {
   "codemirror_mode": {
    "name": "ipython",
    "version": 3
   },
   "file_extension": ".py",
   "mimetype": "text/x-python",
   "name": "python",
   "nbconvert_exporter": "python",
   "pygments_lexer": "ipython3",
   "version": "3.10.6"
  },
  "orig_nbformat": 4,
  "vscode": {
   "interpreter": {
    "hash": "fb3f0c3a697a7256f3122816dd9f3ac634f951acfd855c57fce6592b991e3e66"
   }
  }
 },
 "nbformat": 4,
 "nbformat_minor": 2
}

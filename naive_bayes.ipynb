{
 "cells": [
  {
   "cell_type": "markdown",
   "metadata": {},
   "source": [
    "## Naive Bayes\n",
    "---\n",
    "\n",
    "This notebook fits a Naive Bayes model to the Scania Trucks Air Pressure System (APS) predictive maintenance dataset, obtained from [UCI's data repository](https://archive.ics.uci.edu/ml/datasets/APS+Failure+at+Scania+Trucks). "
   ]
  },
  {
   "cell_type": "code",
   "execution_count": 24,
   "metadata": {},
   "outputs": [],
   "source": [
    "import pandas as pd\n",
    "import numpy as np\n",
    "import matplotlib.pyplot as plt\n",
    "import seaborn as sns\n",
    "import os\n",
    "\n",
    "from tqdm import tqdm\n",
    "from itertools import product\n",
    "\n",
    "from sklearn.naive_bayes import ComplementNB\n",
    "from sklearn.preprocessing import StandardScaler, MinMaxScaler, MaxAbsScaler\n",
    "from sklearn.impute import SimpleImputer\n",
    "from sklearn.metrics import auc, roc_curve, precision_recall_curve, make_scorer, confusion_matrix\n",
    "from sklearn.pipeline import Pipeline\n",
    "from sklearn.model_selection import cross_val_score\n",
    "\n",
    "from imblearn.over_sampling import SMOTE\n",
    "from imblearn.pipeline import Pipeline as imbPipeline\n",
    "\n",
    "sns.set()"
   ]
  },
  {
   "cell_type": "markdown",
   "metadata": {},
   "source": [
    "### Loading Data"
   ]
  },
  {
   "cell_type": "code",
   "execution_count": 4,
   "metadata": {},
   "outputs": [],
   "source": [
    "df_train = pd.read_csv(r'./data/aps_failure_training_set_data_only.csv')"
   ]
  },
  {
   "cell_type": "markdown",
   "metadata": {},
   "source": [
    "### Misclassification Cost Function\n",
    "\n",
    "The dataset comes with a pre-defined challenge metric, shown below:\n",
    "\n",
    "Cost of Misclassification = 10*(False Positive) + 500*(False Negative)\n",
    "\n",
    "This cost will be used in lieu of traditional metrics, such as accuracy and/or AUROC/AUPR. "
   ]
  },
  {
   "cell_type": "code",
   "execution_count": 5,
   "metadata": {},
   "outputs": [],
   "source": [
    "def calc_misclassification_cost(y, y_pred):\n",
    "    tn, fp, fn, tp = confusion_matrix(y, y_pred).ravel()\n",
    "    return 10*fp + 500*fn\n",
    "\n",
    "\n",
    "misclassification_cost = make_scorer(\n",
    "    calc_misclassification_cost,\n",
    "    greater_is_better=False,\n",
    "    needs_proba=False,\n",
    "    needs_threshold=False\n",
    ")"
   ]
  },
  {
   "cell_type": "markdown",
   "metadata": {},
   "source": [
    "### Strategy\n",
    "A similar tuning strategy will be used to tune the Naive Bayes model. \n",
    "\n",
    "* All parameters remain the same, except C & class_weights from LogisticRegression is replaced with alpha & norm.\n",
    "\n",
    "* MaxAbs and StandardScaler are removed as they result in negative values, which are not accepted by the Naive Bayes algorithm.\n",
    "\n",
    "For this project, the ComplementNB variant of the algorithm will be used as scikit-learn recommends it for imbalanced datasets."
   ]
  },
  {
   "cell_type": "markdown",
   "metadata": {},
   "source": [
    "### Grid Search Over All Strategies\n",
    "\n",
    "This can also be considered a Full Factorial Design of Experiments (DOE) as the hyperparameter optimization also includes experimenting with data scalers, filling NaN values, and data sampling (e.g., not just optimizing hyperparameters, but also optimizing preprocessing steps)."
   ]
  },
  {
   "cell_type": "code",
   "execution_count": 6,
   "metadata": {},
   "outputs": [],
   "source": [
    "# df --> X_train & y_train\n",
    "X_train = df_train.drop('class', axis=1)\n",
    "y_train = df_train['class']"
   ]
  },
  {
   "cell_type": "code",
   "execution_count": 27,
   "metadata": {},
   "outputs": [
    {
     "data": {
      "text/html": [
       "<div>\n",
       "<style scoped>\n",
       "    .dataframe tbody tr th:only-of-type {\n",
       "        vertical-align: middle;\n",
       "    }\n",
       "\n",
       "    .dataframe tbody tr th {\n",
       "        vertical-align: top;\n",
       "    }\n",
       "\n",
       "    .dataframe thead th {\n",
       "        text-align: right;\n",
       "    }\n",
       "</style>\n",
       "<table border=\"1\" class=\"dataframe\">\n",
       "  <thead>\n",
       "    <tr style=\"text-align: right;\">\n",
       "      <th></th>\n",
       "      <th>fill_na</th>\n",
       "      <th>scaler</th>\n",
       "      <th>imbalance</th>\n",
       "      <th>alpha</th>\n",
       "      <th>norm</th>\n",
       "    </tr>\n",
       "  </thead>\n",
       "  <tbody>\n",
       "    <tr>\n",
       "      <th>0</th>\n",
       "      <td>0</td>\n",
       "      <td>minmax</td>\n",
       "      <td>None</td>\n",
       "      <td>0.001</td>\n",
       "      <td>True</td>\n",
       "    </tr>\n",
       "    <tr>\n",
       "      <th>1</th>\n",
       "      <td>0</td>\n",
       "      <td>minmax</td>\n",
       "      <td>None</td>\n",
       "      <td>0.001</td>\n",
       "      <td>False</td>\n",
       "    </tr>\n",
       "    <tr>\n",
       "      <th>2</th>\n",
       "      <td>0</td>\n",
       "      <td>minmax</td>\n",
       "      <td>None</td>\n",
       "      <td>0.100</td>\n",
       "      <td>True</td>\n",
       "    </tr>\n",
       "    <tr>\n",
       "      <th>3</th>\n",
       "      <td>0</td>\n",
       "      <td>minmax</td>\n",
       "      <td>None</td>\n",
       "      <td>0.100</td>\n",
       "      <td>False</td>\n",
       "    </tr>\n",
       "    <tr>\n",
       "      <th>4</th>\n",
       "      <td>0</td>\n",
       "      <td>minmax</td>\n",
       "      <td>None</td>\n",
       "      <td>1.000</td>\n",
       "      <td>True</td>\n",
       "    </tr>\n",
       "    <tr>\n",
       "      <th>...</th>\n",
       "      <td>...</td>\n",
       "      <td>...</td>\n",
       "      <td>...</td>\n",
       "      <td>...</td>\n",
       "      <td>...</td>\n",
       "    </tr>\n",
       "    <tr>\n",
       "      <th>191</th>\n",
       "      <td>most_frequent</td>\n",
       "      <td>minmax</td>\n",
       "      <td>smote</td>\n",
       "      <td>100.000</td>\n",
       "      <td>False</td>\n",
       "    </tr>\n",
       "    <tr>\n",
       "      <th>192</th>\n",
       "      <td>most_frequent</td>\n",
       "      <td>minmax</td>\n",
       "      <td>smote</td>\n",
       "      <td>1000.000</td>\n",
       "      <td>True</td>\n",
       "    </tr>\n",
       "    <tr>\n",
       "      <th>193</th>\n",
       "      <td>most_frequent</td>\n",
       "      <td>minmax</td>\n",
       "      <td>smote</td>\n",
       "      <td>1000.000</td>\n",
       "      <td>False</td>\n",
       "    </tr>\n",
       "    <tr>\n",
       "      <th>194</th>\n",
       "      <td>most_frequent</td>\n",
       "      <td>minmax</td>\n",
       "      <td>smote</td>\n",
       "      <td>10000.000</td>\n",
       "      <td>True</td>\n",
       "    </tr>\n",
       "    <tr>\n",
       "      <th>195</th>\n",
       "      <td>most_frequent</td>\n",
       "      <td>minmax</td>\n",
       "      <td>smote</td>\n",
       "      <td>10000.000</td>\n",
       "      <td>False</td>\n",
       "    </tr>\n",
       "  </tbody>\n",
       "</table>\n",
       "<p>196 rows × 5 columns</p>\n",
       "</div>"
      ],
      "text/plain": [
       "           fill_na  scaler imbalance      alpha   norm\n",
       "0                0  minmax      None      0.001   True\n",
       "1                0  minmax      None      0.001  False\n",
       "2                0  minmax      None      0.100   True\n",
       "3                0  minmax      None      0.100  False\n",
       "4                0  minmax      None      1.000   True\n",
       "..             ...     ...       ...        ...    ...\n",
       "191  most_frequent  minmax     smote    100.000  False\n",
       "192  most_frequent  minmax     smote   1000.000   True\n",
       "193  most_frequent  minmax     smote   1000.000  False\n",
       "194  most_frequent  minmax     smote  10000.000   True\n",
       "195  most_frequent  minmax     smote  10000.000  False\n",
       "\n",
       "[196 rows x 5 columns]"
      ]
     },
     "metadata": {},
     "output_type": "display_data"
    },
    {
     "name": "stdout",
     "output_type": "stream",
     "text": [
      "Total number of runs = 196\n"
     ]
    }
   ],
   "source": [
    "# Run all combinations (e.g. Full Factorial)\n",
    "fill_na = [0, -1, -100, -10_000, -1_000_000, 'mean', 'most_frequent']\n",
    "scalers = ['minmax']\n",
    "imbalance = [None, 'smote']\n",
    "alpha = [0.001, 0.1, 1, 10, 100, 1000, 10_000]\n",
    "norm = [True, False]\n",
    "\n",
    "s = [fill_na, scalers, imbalance, alpha, norm]\n",
    "df_full_fact = pd.DataFrame(list(product(*s)), columns=['fill_na', 'scaler', 'imbalance', 'alpha', 'norm'])\n",
    "\n",
    "display(df_full_fact)\n",
    "print('Total number of runs = %i' % df_full_fact.shape[0])"
   ]
  },
  {
   "cell_type": "code",
   "execution_count": 28,
   "metadata": {},
   "outputs": [],
   "source": [
    "def fit_sklearn_pipeline(srs):\n",
    "    steps = []\n",
    "\n",
    "    # IMPUTATION METHOD\n",
    "    if type(srs.fill_na) == int:\n",
    "        steps.append(('impute', SimpleImputer(strategy='constant', fill_value=srs.fill_na)))\n",
    "    else:\n",
    "        steps.append(('impute', SimpleImputer(strategy=srs.fill_na)))\n",
    "\n",
    "    # SCALING METHOD\n",
    "    if srs.scaler == 'minmax':\n",
    "        steps.append(('scale', MinMaxScaler()))\n",
    "    elif srs.scaler == 'maxabs':\n",
    "        steps.append(('scale', MaxAbsScaler()))\n",
    "    else:\n",
    "        steps.append(('scale', StandardScaler()))\n",
    "\n",
    "    # SMOTE & WEIGHTS\n",
    "    if srs.imbalance == 'smote':\n",
    "        steps.append(('smote', SMOTE(random_state=1)))\n",
    "        steps.append(('naive_bayes', ComplementNB(alpha=srs.alpha, norm=srs.norm)))\n",
    "        pipe = imbPipeline(steps=steps)\n",
    "\n",
    "    else:\n",
    "        steps.append(('naive_bayes', ComplementNB(alpha=srs.alpha, norm=srs.norm)))\n",
    "        pipe = Pipeline(steps=steps)\n",
    "\n",
    "    # FIT & PREDICT\n",
    "    pipe.fit(X_train, y_train)\n",
    "\n",
    "    return pipe"
   ]
  },
  {
   "cell_type": "code",
   "execution_count": 30,
   "metadata": {},
   "outputs": [
    {
     "name": "stderr",
     "output_type": "stream",
     "text": [
      "100%|██████████| 196/196 [03:43<00:00,  1.14s/it]"
     ]
    },
    {
     "name": "stdout",
     "output_type": "stream",
     "text": [
      "CPU times: user 3min 21s, sys: 1min 45s, total: 5min 6s\n",
      "Wall time: 3min 43s\n"
     ]
    },
    {
     "name": "stderr",
     "output_type": "stream",
     "text": [
      "\n"
     ]
    }
   ],
   "source": [
    "%%time\n",
    "results = []\n",
    "\n",
    "for row in tqdm(df_full_fact.iterrows(), total=df_full_fact.shape[0]):\n",
    "    # Fit pipeline\n",
    "    pipe = fit_sklearn_pipeline(row[1])\n",
    "\n",
    "    # Calculate average misclassification cost over all KFolds, best C & coeffs\n",
    "    scores = cross_val_score(pipe, cv=5, X=X_train, y=y_train, scoring=misclassification_cost, n_jobs=-1)\n",
    "    cv_mean_cost = -scores.mean()\n",
    "\n",
    "    # Append to results df\n",
    "    results.append((*row[1].tolist(), cv_mean_cost))\n",
    "\n",
    "# Create results dataframe\n",
    "df_results = pd.DataFrame(results, columns=['fill_na', 'scaler', 'imbalance', 'alpha', 'norm', 'cv_mean_cost'])\n",
    "df_results.to_csv(r'./results/cnb_tuning.csv', index=False)"
   ]
  },
  {
   "cell_type": "code",
   "execution_count": 31,
   "metadata": {},
   "outputs": [
    {
     "data": {
      "text/html": [
       "<div>\n",
       "<style scoped>\n",
       "    .dataframe tbody tr th:only-of-type {\n",
       "        vertical-align: middle;\n",
       "    }\n",
       "\n",
       "    .dataframe tbody tr th {\n",
       "        vertical-align: top;\n",
       "    }\n",
       "\n",
       "    .dataframe thead th {\n",
       "        text-align: right;\n",
       "    }\n",
       "</style>\n",
       "<table border=\"1\" class=\"dataframe\">\n",
       "  <thead>\n",
       "    <tr style=\"text-align: right;\">\n",
       "      <th></th>\n",
       "      <th>fill_na</th>\n",
       "      <th>scaler</th>\n",
       "      <th>imbalance</th>\n",
       "      <th>alpha</th>\n",
       "      <th>norm</th>\n",
       "      <th>cv_mean_cost</th>\n",
       "    </tr>\n",
       "  </thead>\n",
       "  <tbody>\n",
       "    <tr>\n",
       "      <th>47</th>\n",
       "      <td>-1</td>\n",
       "      <td>minmax</td>\n",
       "      <td>smote</td>\n",
       "      <td>1.000</td>\n",
       "      <td>False</td>\n",
       "      <td>14474.0</td>\n",
       "    </tr>\n",
       "    <tr>\n",
       "      <th>45</th>\n",
       "      <td>-1</td>\n",
       "      <td>minmax</td>\n",
       "      <td>smote</td>\n",
       "      <td>0.100</td>\n",
       "      <td>False</td>\n",
       "      <td>14584.0</td>\n",
       "    </tr>\n",
       "    <tr>\n",
       "      <th>31</th>\n",
       "      <td>-1</td>\n",
       "      <td>minmax</td>\n",
       "      <td>None</td>\n",
       "      <td>0.100</td>\n",
       "      <td>False</td>\n",
       "      <td>14684.0</td>\n",
       "    </tr>\n",
       "    <tr>\n",
       "      <th>43</th>\n",
       "      <td>-1</td>\n",
       "      <td>minmax</td>\n",
       "      <td>smote</td>\n",
       "      <td>0.001</td>\n",
       "      <td>False</td>\n",
       "      <td>14684.0</td>\n",
       "    </tr>\n",
       "    <tr>\n",
       "      <th>3</th>\n",
       "      <td>0</td>\n",
       "      <td>minmax</td>\n",
       "      <td>None</td>\n",
       "      <td>0.100</td>\n",
       "      <td>False</td>\n",
       "      <td>14702.0</td>\n",
       "    </tr>\n",
       "    <tr>\n",
       "      <th>19</th>\n",
       "      <td>0</td>\n",
       "      <td>minmax</td>\n",
       "      <td>smote</td>\n",
       "      <td>1.000</td>\n",
       "      <td>False</td>\n",
       "      <td>14726.0</td>\n",
       "    </tr>\n",
       "    <tr>\n",
       "      <th>17</th>\n",
       "      <td>0</td>\n",
       "      <td>minmax</td>\n",
       "      <td>smote</td>\n",
       "      <td>0.100</td>\n",
       "      <td>False</td>\n",
       "      <td>14728.0</td>\n",
       "    </tr>\n",
       "    <tr>\n",
       "      <th>33</th>\n",
       "      <td>-1</td>\n",
       "      <td>minmax</td>\n",
       "      <td>None</td>\n",
       "      <td>1.000</td>\n",
       "      <td>False</td>\n",
       "      <td>14758.0</td>\n",
       "    </tr>\n",
       "    <tr>\n",
       "      <th>5</th>\n",
       "      <td>0</td>\n",
       "      <td>minmax</td>\n",
       "      <td>None</td>\n",
       "      <td>1.000</td>\n",
       "      <td>False</td>\n",
       "      <td>14774.0</td>\n",
       "    </tr>\n",
       "    <tr>\n",
       "      <th>21</th>\n",
       "      <td>0</td>\n",
       "      <td>minmax</td>\n",
       "      <td>smote</td>\n",
       "      <td>10.000</td>\n",
       "      <td>False</td>\n",
       "      <td>14846.0</td>\n",
       "    </tr>\n",
       "  </tbody>\n",
       "</table>\n",
       "</div>"
      ],
      "text/plain": [
       "   fill_na  scaler imbalance   alpha   norm  cv_mean_cost\n",
       "47      -1  minmax     smote   1.000  False       14474.0\n",
       "45      -1  minmax     smote   0.100  False       14584.0\n",
       "31      -1  minmax      None   0.100  False       14684.0\n",
       "43      -1  minmax     smote   0.001  False       14684.0\n",
       "3        0  minmax      None   0.100  False       14702.0\n",
       "19       0  minmax     smote   1.000  False       14726.0\n",
       "17       0  minmax     smote   0.100  False       14728.0\n",
       "33      -1  minmax      None   1.000  False       14758.0\n",
       "5        0  minmax      None   1.000  False       14774.0\n",
       "21       0  minmax     smote  10.000  False       14846.0"
      ]
     },
     "execution_count": 31,
     "metadata": {},
     "output_type": "execute_result"
    }
   ],
   "source": [
    "df_results = pd.read_csv(r'./results/cnb_tuning.csv').fillna('None')\n",
    "df_results.sort_values(by='cv_mean_cost')[:10]"
   ]
  },
  {
   "cell_type": "markdown",
   "metadata": {},
   "source": [
    "* Unlike Logistic Regression, Naive Bayes performs better when NaN values are not offset from the data. However, it does perform slightly better if NaNs are filled with -1 instead of 0. This may be due to the fact that some features contain 0 as a valid value.\n",
    "\n",
    "* SMOTE seems to be effective at decreasing the algorithm's misclassification cost, however, only slightly."
   ]
  },
  {
   "cell_type": "markdown",
   "metadata": {},
   "source": [
    "### Best Estimator - Plots"
   ]
  },
  {
   "cell_type": "code",
   "execution_count": 32,
   "metadata": {},
   "outputs": [],
   "source": [
    "pipe = fit_sklearn_pipeline(df_full_fact.iloc[47])"
   ]
  },
  {
   "cell_type": "code",
   "execution_count": 33,
   "metadata": {},
   "outputs": [
    {
     "name": "stdout",
     "output_type": "stream",
     "text": [
      "Cross-Validated Cost: 14474\n"
     ]
    }
   ],
   "source": [
    "scores = cross_val_score(pipe, cv=5, X=X_train, y=y_train, scoring=misclassification_cost, n_jobs=-1)\n",
    "cv_mean_cost = -scores.mean()\n",
    "print('Cross-Validated Cost: %i' % cv_mean_cost)"
   ]
  },
  {
   "cell_type": "code",
   "execution_count": 35,
   "metadata": {},
   "outputs": [],
   "source": [
    "def plot_roc_auc(y_true, y_pred, model_name, file_path, figsize=(10, 8)):\n",
    "    # Create figure\n",
    "    fig = plt.figure(figsize=figsize)\n",
    "\n",
    "    # Calculate ROC Curve & AUC\n",
    "    fpr, tpr, thresholds = roc_curve(y_true, y_pred)\n",
    "    area = auc(fpr, tpr)\n",
    "    plt.title('ROC Curve | %s | AUC = %0.5f' % (model_name, area))\n",
    "    plt.xlabel('False Positive Rate (FPR)')\n",
    "    plt.ylabel('True Positive Rate (TPR)')\n",
    "\n",
    "    # Save & close plot\n",
    "    plt.plot(fpr, tpr)\n",
    "    fig.savefig(file_path)\n",
    "    plt.close(fig)\n",
    "\n",
    "    return area\n",
    "\n",
    "\n",
    "def plot_precision_recall_auc(y_true, y_pred, model_name, file_path, figsize=(10, 8)):\n",
    "    # Create figure\n",
    "    fig = plt.figure(figsize=figsize)\n",
    "\n",
    "    # Calculate ROC Curve & AUC\n",
    "    pr, rc, thresholds = precision_recall_curve(y_true, y_pred)\n",
    "    area = auc(rc, pr)\n",
    "    plt.title('Precision-Recall Curve | %s | AUC = %0.5f' % (model_name, area))\n",
    "    plt.xlabel('Recall')\n",
    "    plt.ylabel('Precision')\n",
    "\n",
    "    # Save & close plot\n",
    "    plt.plot(rc, pr)\n",
    "    fig.savefig(file_path)\n",
    "    plt.close(fig)\n",
    "\n",
    "    return area\n",
    "\n",
    "probs = pipe.predict_proba(X_train)\n",
    "\n",
    "plot_roc_auc(y_train.replace({'neg': 0, 'pos': 1}), probs[:, 1], 'Complement Naive Bayes', r'./results/cnb_roc.jpg');\n",
    "plot_precision_recall_auc(y_train.replace({'neg': 0, 'pos': 1}), probs[:, 1], 'Complement Naive Bayes', r'./results/cnb_pr.jpg');"
   ]
  },
  {
   "cell_type": "markdown",
   "metadata": {},
   "source": [
    "Note that probabilities that comes out of a Naive Bayes algorithm are not accurate. Plot is provided for reference only.\n",
    "\n",
    "![image](./results/cnb_roc.jpg)\n",
    "![image](./results/cnb_pr.jpg)"
   ]
  },
  {
   "cell_type": "markdown",
   "metadata": {},
   "source": [
    "### Misclassification Cost on Test Set"
   ]
  },
  {
   "cell_type": "code",
   "execution_count": 36,
   "metadata": {},
   "outputs": [
    {
     "name": "stdout",
     "output_type": "stream",
     "text": [
      "Misclassification Cost on Test Data: 19060\n"
     ]
    }
   ],
   "source": [
    "df_test = pd.read_csv(r'./data/aps_failure_test_set_data_only.csv')\n",
    "\n",
    "X_test = df_test.drop('class', axis=1)\n",
    "y_test = df_test['class']\n",
    "y_pred = pipe.predict(X_test)\n",
    "\n",
    "print('Misclassification Cost on Test Data: %i' % calc_misclassification_cost(y_test, y_pred))"
   ]
  },
  {
   "cell_type": "code",
   "execution_count": 37,
   "metadata": {},
   "outputs": [
    {
     "name": "stdout",
     "output_type": "stream",
     "text": [
      "Number of Type 1 Faults: 806\n",
      "Number of Type 2 Faults: 22\n"
     ]
    }
   ],
   "source": [
    "tn, fp, fn, tp = confusion_matrix(y_test, y_pred).ravel()\n",
    "print('Number of Type 1 Faults: %i' % fp)\n",
    "print('Number of Type 2 Faults: %i' % fn)"
   ]
  },
  {
   "cell_type": "markdown",
   "metadata": {},
   "source": [
    "* The Naive Bayes algorithm performed worse than the tuned Logistic Regression on the test set.\n",
    "\n",
    "* However, Naive Bayes had the same number of Type 2 Faults as the Logistic Regression, which is the more important fault to minimize (Cost = 500 for Type 2)"
   ]
  }
 ],
 "metadata": {
  "kernelspec": {
   "display_name": "Python 3.10.6 ('xgb')",
   "language": "python",
   "name": "python3"
  },
  "language_info": {
   "codemirror_mode": {
    "name": "ipython",
    "version": 3
   },
   "file_extension": ".py",
   "mimetype": "text/x-python",
   "name": "python",
   "nbconvert_exporter": "python",
   "pygments_lexer": "ipython3",
   "version": "3.10.6"
  },
  "orig_nbformat": 4,
  "vscode": {
   "interpreter": {
    "hash": "fb3f0c3a697a7256f3122816dd9f3ac634f951acfd855c57fce6592b991e3e66"
   }
  }
 },
 "nbformat": 4,
 "nbformat_minor": 2
}
